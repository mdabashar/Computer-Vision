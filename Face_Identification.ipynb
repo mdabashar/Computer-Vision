{
 "cells": [
  {
   "cell_type": "markdown",
   "metadata": {},
   "source": [
    "# Face Identification Model using FaceNet in Keras\n",
    "\n",
    "Face identification is a computer vision task of identifying a person based on a photograph of their face.\n",
    "\n",
    "Required Data Link: https://bit.ly/3ikw53y"
   ]
  },
  {
   "cell_type": "markdown",
   "metadata": {},
   "source": [
    "# 1.Face Detection\n",
    "\n",
    "The Face detection method is used to find the faces present in the image, extract the faces, and display it (or create a compressed file to use it further for feature extraction).\n",
    "\n",
    "##### We will be using MTCNN"
   ]
  },
  {
   "cell_type": "markdown",
   "metadata": {},
   "source": [
    "### Import required libraries"
   ]
  },
  {
   "cell_type": "code",
   "execution_count": 1,
   "metadata": {},
   "outputs": [],
   "source": [
    "from matplotlib import pyplot as plt\n",
    "from matplotlib.patches import Rectangle\n",
    "from matplotlib.patches import Circle\n",
    "from PIL import Image \n",
    "from numpy import savez_compressed\n",
    "from numpy import asarray\n",
    "from os import listdir\n",
    "from mtcnn.mtcnn import MTCNN"
   ]
  },
  {
   "cell_type": "markdown",
   "metadata": {},
   "source": [
    "### 1.1 Method to extract Face"
   ]
  },
  {
   "cell_type": "code",
   "execution_count": 2,
   "metadata": {},
   "outputs": [],
   "source": [
    "def extract_image(image):\n",
    "    img1 = Image.open(image)            #open the image\n",
    "    img1 = img1.convert('RGB')          #convert the image to RGB format \n",
    "    pixels = asarray(img1)              #convert the image to numpy array\n",
    "    detector = MTCNN()                  #assign the MTCNN detector\n",
    "    f = detector.detect_faces(pixels)\n",
    "    #fetching the (x,y)co-ordinate and (width-->w, height-->h) of the image\n",
    "    x1,y1,w,h = f[0]['box']             \n",
    "    x1, y1 = abs(x1), abs(y1)\n",
    "    x2 = abs(x1+w)\n",
    "    y2 = abs(y1+h)\n",
    "    #locate the co-ordinates of face in the image\n",
    "    store_face = pixels[y1:y2,x1:x2]\n",
    "    plt.imshow(store_face)\n",
    "    image1 = Image.fromarray(store_face,'RGB')    #convert the numpy array to object\n",
    "    image1 = image1.resize((160,160))             #resize the image\n",
    "    face_array = asarray(image1)                  #image to array\n",
    "    return face_array"
   ]
  },
  {
   "cell_type": "markdown",
   "metadata": {},
   "source": [
    "### 1.2 Method to fetch the face"
   ]
  },
  {
   "cell_type": "code",
   "execution_count": 3,
   "metadata": {},
   "outputs": [],
   "source": [
    "def load_faces(directory):\n",
    "    face = []\n",
    "    i=1\n",
    "    for filename in listdir(directory):\n",
    "        path = directory + filename\n",
    "        faces = extract_image(path)\n",
    "        face.append(faces)\n",
    "    return face"
   ]
  },
  {
   "cell_type": "markdown",
   "metadata": {},
   "source": [
    "### 1.3 Method to get the array of face data(trainX) and it's labels(trainY)"
   ]
  },
  {
   "cell_type": "code",
   "execution_count": 4,
   "metadata": {},
   "outputs": [],
   "source": [
    "def load_dataset(directory):\n",
    "    x, y = [],[]\n",
    "    i=1\n",
    "    for subdir in listdir(directory):\n",
    "        path = directory + subdir + '/'\n",
    "        #load all faces in subdirectory\n",
    "        faces = load_faces(path)\n",
    "        #create labels\n",
    "        labels = [subdir for _ in range(len(faces))]\n",
    "        #summarize\n",
    "        print(\"%d There are %d images in the class %s:\"%(i,len(faces),subdir))\n",
    "        x.extend(faces)\n",
    "        y.extend(labels)\n",
    "        i=i+1\n",
    "    return asarray(x),asarray(y)"
   ]
  },
  {
   "cell_type": "markdown",
   "metadata": {},
   "source": [
    "### 1.4 load the datasets"
   ]
  },
  {
   "cell_type": "code",
   "execution_count": 5,
   "metadata": {},
   "outputs": [],
   "source": [
    "BASE = ''"
   ]
  },
  {
   "cell_type": "code",
   "execution_count": 70,
   "metadata": {},
   "outputs": [],
   "source": [
    "trainX,trainY = load_dataset(BASE+'Indian-celebrities/')\n",
    "print(trainX.shape,trainY.shape)\n",
    "#compress the data\n",
    "savez_compressed(BASE+'Indian-celeb-dataset.npz',trainX,trainY)"
   ]
  },
  {
   "cell_type": "markdown",
   "metadata": {},
   "source": [
    "# 2. Feature Extraction\n",
    "\n",
    "Feature extraction is the basic and most important initializing step for face recognition. It extracts the biological components of your face. These biological components are the features of your face which differ from person to person. There are various methods which extract various combination of features, commonly known as nodal points. No two people can have all the nodal points similar to each other except for identical twins.\n",
    "\n",
    "##### We will be using the FaceNet Keras Model."
   ]
  },
  {
   "cell_type": "code",
   "execution_count": 8,
   "metadata": {},
   "outputs": [],
   "source": [
    "from numpy import load\n",
    "from numpy import asarray\n",
    "from numpy import expand_dims\n",
    "from numpy import savez_compressed\n",
    "from numpy import reshape\n",
    "from keras.models import load_model "
   ]
  },
  {
   "cell_type": "markdown",
   "metadata": {},
   "source": [
    "### 2.1 Generalize the data and extract the embeddings"
   ]
  },
  {
   "cell_type": "code",
   "execution_count": 9,
   "metadata": {},
   "outputs": [],
   "source": [
    "def extract_embeddings(model,face_pixels):\n",
    "    face_pixels = face_pixels.astype('float32')  #convert the entire data to float32(base)\n",
    "    mean = face_pixels.mean()                    #evaluate the mean of the data\n",
    "    std  = face_pixels.std()                     #evaluate the standard deviation of the data\n",
    "    face_pixels = (face_pixels - mean)/std       \n",
    "    samples = expand_dims(face_pixels,axis=0)    #expand the dimension of data \n",
    "    yhat = model.predict(samples)\n",
    "    return yhat[0]"
   ]
  },
  {
   "cell_type": "markdown",
   "metadata": {},
   "source": [
    "### 2.2 load the compressed dataset and facenet keras model"
   ]
  },
  {
   "cell_type": "code",
   "execution_count": 11,
   "metadata": {},
   "outputs": [
    {
     "name": "stdout",
     "output_type": "stream",
     "text": [
      "(1544, 160, 160, 3) (1544,)\n"
     ]
    },
    {
     "name": "stderr",
     "output_type": "stream",
     "text": [
      "W0116 14:05:19.771148 47190165414976 hdf5_format.py:187] No training configuration found in the save file, so the model was *not* compiled. Compile it manually.\n"
     ]
    }
   ],
   "source": [
    "data = load(BASE+'Indian-celeb-dataset.npz')\n",
    "trainx, trainy = data['arr_0'],data['arr_1']\n",
    "print(trainx.shape, trainy.shape)\n",
    "model = load_model(BASE+'keras-facenet/model/facenet_keras.h5')\n",
    "model.load_weights(BASE+'keras-facenet/weights/facenet_keras_weights.h5')"
   ]
  },
  {
   "cell_type": "markdown",
   "metadata": {},
   "source": [
    "### 2.3 get the face embeddings"
   ]
  },
  {
   "cell_type": "code",
   "execution_count": 12,
   "metadata": {},
   "outputs": [
    {
     "name": "stdout",
     "output_type": "stream",
     "text": [
      "(1544, 128)\n"
     ]
    }
   ],
   "source": [
    "new_trainx = list()\n",
    "for train_pixels in trainx:\n",
    "    embeddings = extract_embeddings(model,train_pixels)\n",
    "    new_trainx.append(embeddings)\n",
    "new_trainx = asarray(new_trainx)             #convert the embeddings into numpy array\n",
    "print(new_trainx.shape)"
   ]
  },
  {
   "cell_type": "markdown",
   "metadata": {},
   "source": [
    "### 2.4 Compress the 128 embeddings of each face "
   ]
  },
  {
   "cell_type": "code",
   "execution_count": 13,
   "metadata": {},
   "outputs": [],
   "source": [
    "savez_compressed('Indian-celeb-embeddings.npz',new_trainx,trainy)"
   ]
  },
  {
   "cell_type": "markdown",
   "metadata": {},
   "source": [
    "# 3. Load Test data for Classification Model"
   ]
  },
  {
   "cell_type": "code",
   "execution_count": 32,
   "metadata": {},
   "outputs": [],
   "source": [
    "from matplotlib import pyplot as plt\n",
    "from PIL import Image\n",
    "from numpy import asarray\n",
    "from numpy import array\n",
    "from mtcnn.mtcnn import MTCNN\n",
    "from keras.models import load_model\n",
    "from numpy import expand_dims\n",
    "from numpy import reshape\n",
    "from numpy import load\n",
    "from numpy import max\n",
    "from sklearn.metrics import accuracy_score\n",
    "from sklearn.preprocessing import LabelEncoder\n",
    "from sklearn.preprocessing import Normalizer\n",
    "from sklearn.svm import SVC"
   ]
  },
  {
   "cell_type": "markdown",
   "metadata": {},
   "source": [
    "### 3.1 Extract Face for classifier"
   ]
  },
  {
   "cell_type": "code",
   "execution_count": 45,
   "metadata": {},
   "outputs": [],
   "source": [
    "def extract_image(image):\n",
    "    img1 = Image.open(image)\n",
    "    img1 = img1.convert('RGB')\n",
    "    pixels = asarray(img1)\n",
    "    detector = MTCNN()\n",
    "    f = detector.detect_faces(pixels)\n",
    "    x1,y1,w,h = f[0]['box']\n",
    "    x1, y1 = abs(x1), abs(y1)\n",
    "    x2 = abs(x1+w)\n",
    "    y2 = abs(y1+h)\n",
    "    store_face = pixels[y1:y2,x1:x2]\n",
    "    image1 = Image.fromarray(store_face,'RGB')\n",
    "    image1 = image1.resize((160,160))\n",
    "    face_array = asarray(image1)\n",
    "    return face_array"
   ]
  },
  {
   "cell_type": "markdown",
   "metadata": {},
   "source": [
    "### 3.2 Extracting embeddings"
   ]
  },
  {
   "cell_type": "code",
   "execution_count": 46,
   "metadata": {},
   "outputs": [],
   "source": [
    "def extract_embeddings(model,face_pixels):\n",
    "    face_pixels = face_pixels.astype('float32')\n",
    "    mean = face_pixels.mean()\n",
    "    std  = face_pixels.std()\n",
    "    face_pixels = (face_pixels - mean)/std\n",
    "    samples = expand_dims(face_pixels,axis=0)\n",
    "    yhat = model.predict(samples)\n",
    "    return yhat[0]"
   ]
  },
  {
   "cell_type": "markdown",
   "metadata": {},
   "source": [
    "### 3.3 Load an image (that will be classified) and reshape the image"
   ]
  },
  {
   "cell_type": "code",
   "execution_count": 59,
   "metadata": {},
   "outputs": [
    {
     "name": "stderr",
     "output_type": "stream",
     "text": [
      "W0116 14:15:27.609743 47190165414976 def_function.py:120] 5 out of the last 18 calls to <function Model.make_predict_function.<locals>.predict_function at 0x2af41b514378> triggered tf.function retracing. Tracing is expensive and the excessive number of tracings could be due to (1) creating @tf.function repeatedly in a loop, (2) passing tensors with different shapes, (3) passing Python objects instead of tensors. For (1), please define your @tf.function outside of the loop. For (2), @tf.function has experimental_relax_shapes=True option that relaxes argument shapes that can avoid unnecessary retracing. For (3), please refer to https://www.tensorflow.org/tutorials/customization/performance#python_or_tensor_args and https://www.tensorflow.org/api_docs/python/tf/function for  more details.\n",
      "W0116 14:15:27.769349 47190165414976 def_function.py:120] 6 out of the last 19 calls to <function Model.make_predict_function.<locals>.predict_function at 0x2af41b514378> triggered tf.function retracing. Tracing is expensive and the excessive number of tracings could be due to (1) creating @tf.function repeatedly in a loop, (2) passing tensors with different shapes, (3) passing Python objects instead of tensors. For (1), please define your @tf.function outside of the loop. For (2), @tf.function has experimental_relax_shapes=True option that relaxes argument shapes that can avoid unnecessary retracing. For (3), please refer to https://www.tensorflow.org/tutorials/customization/performance#python_or_tensor_args and https://www.tensorflow.org/api_docs/python/tf/function for  more details.\n",
      "W0116 14:15:27.880015 47190165414976 def_function.py:120] 6 out of the last 11 calls to <function Model.make_predict_function.<locals>.predict_function at 0x2af41b514378> triggered tf.function retracing. Tracing is expensive and the excessive number of tracings could be due to (1) creating @tf.function repeatedly in a loop, (2) passing tensors with different shapes, (3) passing Python objects instead of tensors. For (1), please define your @tf.function outside of the loop. For (2), @tf.function has experimental_relax_shapes=True option that relaxes argument shapes that can avoid unnecessary retracing. For (3), please refer to https://www.tensorflow.org/tutorials/customization/performance#python_or_tensor_args and https://www.tensorflow.org/api_docs/python/tf/function for  more details.\n"
     ]
    },
    {
     "name": "stdout",
     "output_type": "stream",
     "text": [
      "Input test data shape:  (1, 160, 160, 3)\n"
     ]
    }
   ],
   "source": [
    "Img = BASE+'bashar5.jpg'\n",
    "#plt.imshow(Img)\n",
    "face = extract_image(Img)\n",
    "testx = asarray(face)\n",
    "testx = testx.reshape(-1,160,160,3)\n",
    "print(\"Input test data shape: \",testx.shape)"
   ]
  },
  {
   "cell_type": "markdown",
   "metadata": {},
   "source": [
    "### 3.4 find embeddings"
   ]
  },
  {
   "cell_type": "code",
   "execution_count": 60,
   "metadata": {},
   "outputs": [
    {
     "name": "stderr",
     "output_type": "stream",
     "text": [
      "W0116 14:15:34.185181 47190165414976 hdf5_format.py:187] No training configuration found in the save file, so the model was *not* compiled. Compile it manually.\n"
     ]
    },
    {
     "name": "stdout",
     "output_type": "stream",
     "text": [
      "Input test embedding shape:  (1, 128)\n"
     ]
    }
   ],
   "source": [
    "model = load_model(BASE+'keras-facenet/model/facenet_keras.h5')\n",
    "model.load_weights(BASE+'keras-facenet/weights/facenet_keras_weights.h5')\n",
    "new_testx = list()\n",
    "for test_pixels in testx:\n",
    "    embeddings = extract_embeddings(model,test_pixels)\n",
    "    new_testx.append(embeddings)\n",
    "new_testx = asarray(new_testx)  \n",
    "print(\"Input test embedding shape: \",new_testx.shape)"
   ]
  },
  {
   "cell_type": "markdown",
   "metadata": {},
   "source": [
    "# 4. Train Feature-based Classifier Model\n",
    "\n",
    "Feature-based classification is a geometry-based or template-based algorithm used to classify the features of the test data among different classes of facial features in the training data. These template-based classifications are possible using various statistical approaches.\n",
    "\n",
    "##### We will be using the SVM method."
   ]
  },
  {
   "cell_type": "code",
   "execution_count": 61,
   "metadata": {},
   "outputs": [],
   "source": [
    "data1 = load(BASE+'Indian-celeb-dataset.npz')\n",
    "train_x,train_y = data1['arr_0'],data1['arr_1']"
   ]
  },
  {
   "cell_type": "code",
   "execution_count": 62,
   "metadata": {},
   "outputs": [
    {
     "name": "stdout",
     "output_type": "stream",
     "text": [
      "Loaded data: Train=1544 , Test=1\n"
     ]
    }
   ],
   "source": [
    "data = load(BASE+'Indian-celeb-embeddings.npz')\n",
    "trainx,trainy= data['arr_0'],data['arr_1']\n",
    "print(\"Loaded data: Train=%d , Test=%d\"%(trainx.shape[0],new_testx.shape[0]))"
   ]
  },
  {
   "cell_type": "markdown",
   "metadata": {},
   "source": [
    "### 4.1 normalize the input data"
   ]
  },
  {
   "cell_type": "code",
   "execution_count": 63,
   "metadata": {},
   "outputs": [],
   "source": [
    "in_encode = Normalizer(norm='l2')\n",
    "trainx = in_encode.transform(trainx)\n",
    "new_testx = in_encode.transform(new_testx)"
   ]
  },
  {
   "cell_type": "markdown",
   "metadata": {},
   "source": [
    "### 4.2 create a label vector"
   ]
  },
  {
   "cell_type": "code",
   "execution_count": 64,
   "metadata": {},
   "outputs": [],
   "source": [
    "new_testy = trainy \n",
    "out_encode = LabelEncoder()\n",
    "out_encode.fit(trainy)\n",
    "trainy = out_encode.transform(trainy)\n",
    "new_testy = out_encode.transform(new_testy)"
   ]
  },
  {
   "cell_type": "markdown",
   "metadata": {},
   "source": [
    "### 4.3 define and fit svm classifier model "
   ]
  },
  {
   "cell_type": "code",
   "execution_count": 65,
   "metadata": {},
   "outputs": [
    {
     "data": {
      "text/plain": [
       "SVC(kernel='linear', probability=True)"
      ]
     },
     "execution_count": 65,
     "metadata": {},
     "output_type": "execute_result"
    }
   ],
   "source": [
    "model =SVC(kernel='linear', probability=True)\n",
    "model.fit(trainx,trainy)"
   ]
  },
  {
   "cell_type": "markdown",
   "metadata": {},
   "source": [
    "# 5. Test model"
   ]
  },
  {
   "cell_type": "markdown",
   "metadata": {},
   "source": [
    "### 5.1 make prediction"
   ]
  },
  {
   "cell_type": "code",
   "execution_count": 66,
   "metadata": {},
   "outputs": [],
   "source": [
    "predict_train = model.predict(trainx)\n",
    "predict_test = model.predict(new_testx)"
   ]
  },
  {
   "cell_type": "markdown",
   "metadata": {},
   "source": [
    "### 5.2 get the confidence score"
   ]
  },
  {
   "cell_type": "code",
   "execution_count": 67,
   "metadata": {},
   "outputs": [
    {
     "name": "stdout",
     "output_type": "stream",
     "text": [
      "0.08007795091234207\n"
     ]
    }
   ],
   "source": [
    "probability = model.predict_proba(new_testx)\n",
    "confidence = max(probability)\n",
    "print(confidence)"
   ]
  },
  {
   "cell_type": "markdown",
   "metadata": {},
   "source": [
    "### 5.3 Accuracy"
   ]
  },
  {
   "cell_type": "code",
   "execution_count": 68,
   "metadata": {},
   "outputs": [
    {
     "name": "stdout",
     "output_type": "stream",
     "text": [
      "0.9987046632124352\n"
     ]
    }
   ],
   "source": [
    "acc_train = accuracy_score(trainy,predict_train)\n",
    "print(acc_train)"
   ]
  },
  {
   "cell_type": "markdown",
   "metadata": {},
   "source": [
    "### 5.4 Display"
   ]
  },
  {
   "cell_type": "code",
   "execution_count": 69,
   "metadata": {},
   "outputs": [
    {
     "data": {
      "text/plain": [
       "Text(0.5, 0, 'Predicted Data')"
      ]
     },
     "execution_count": 69,
     "metadata": {},
     "output_type": "execute_result"
    },
    {
     "data": {
      "image/png": "[encoded data removed]",
      "text/plain": [
       "<Figure size 432x288 with 2 Axes>"
      ]
     },
     "metadata": {
      "needs_background": "light"
     },
     "output_type": "display_data"
    }
   ],
   "source": [
    "trainy_list = list(trainy)\n",
    "p=int(predict_test)\n",
    "if p in trainy_list:\n",
    "    val = trainy_list.index(p)\n",
    "#display Input Image\n",
    "plt.subplot(1,2,1)\n",
    "plt.imshow(face)\n",
    "predict_test = out_encode.inverse_transform(predict_test)\n",
    "plt.title(predict_test)\n",
    "plt.xlabel(\"Input Image\")\n",
    "#display Predicated data\n",
    "plt.subplot(1,2,2)\n",
    "plt.imshow(train_x[val])\n",
    "trainy = out_encode.inverse_transform(trainy)\n",
    "plt.title(trainy[val])\n",
    "plt.xlabel(\"Predicted Data\")"
   ]
  },
  {
   "cell_type": "markdown",
   "metadata": {},
   "source": [
    "Reference:\n",
    "\n",
    "[1] https://medium.com/clique-org/how-to-create-a-face-recognition-model-using-facenet-keras-fd65c0b092f1\n",
    "\n",
    "[2] https://machinelearningmastery.com/how-to-develop-a-face-recognition-system-using-facenet-in-keras-and-an-svm-classifier/"
   ]
  }
 ],
 "metadata": {
  "kernelspec": {
   "display_name": "Python 3",
   "language": "python",
   "name": "python3"
  },
  "language_info": {
   "codemirror_mode": {
    "name": "ipython",
    "version": 3
   },
   "file_extension": ".py",
   "mimetype": "text/x-python",
   "name": "python",
   "nbconvert_exporter": "python",
   "pygments_lexer": "ipython3",
   "version": "3.7.2"
  }
 },
 "nbformat": 4,
 "nbformat_minor": 4
}
