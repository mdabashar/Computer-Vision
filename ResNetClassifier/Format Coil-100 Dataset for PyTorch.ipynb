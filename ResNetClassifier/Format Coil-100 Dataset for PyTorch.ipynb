{
 "cells": [
  {
   "cell_type": "markdown",
   "id": "c1beee3e",
   "metadata": {},
   "source": [
    "##### Data Source: \n",
    "\n",
    "http://www.cs.columbia.edu/CAVE/databases/SLAM_coil-20_coil-100/coil-100/coil-100.zip"
   ]
  },
  {
   "cell_type": "code",
   "execution_count": 5,
   "id": "016e25cc",
   "metadata": {},
   "outputs": [],
   "source": [
    "import os\n",
    "import shutil"
   ]
  },
  {
   "cell_type": "code",
   "execution_count": 4,
   "id": "c7373058",
   "metadata": {},
   "outputs": [],
   "source": [
    "BASE = 'D:\\\\ResearchDataGtx1060\\\\ComputerVision\\\\Coil_100\\\\'\n",
    "SOURCE = 'coil-100_original\\\\'\n",
    "DEST = 'coil_100_organised\\\\'\n",
    "\n",
    "images = [f for f in os.listdir(BASE+SOURCE) if '.png' in f.lower()]"
   ]
  },
  {
   "cell_type": "code",
   "execution_count": 3,
   "id": "7682c76e",
   "metadata": {},
   "outputs": [],
   "source": [
    "folders = set([image.split('_')[0] for image in images])"
   ]
  },
  {
   "cell_type": "code",
   "execution_count": 2,
   "id": "e638d10b",
   "metadata": {},
   "outputs": [],
   "source": [
    "for folder in folders:\n",
    "    os.mkdir(BASE+DEST+folder)\n",
    "    print('Created:', BASE+DEST+folder)"
   ]
  },
  {
   "cell_type": "code",
   "execution_count": null,
   "id": "00f99b4b",
   "metadata": {},
   "outputs": [],
   "source": [
    "for image in images:\n",
    "    folder = image.split('_')[0]\n",
    "    new_path = BASE+DEST+folder+'\\\\'+image\n",
    "    old_path = BASE+SOURCE+image\n",
    "    print(new_path)\n",
    "    print(old_path)\n",
    "    shutil.move(old_path, new_path)"
   ]
  }
 ],
 "metadata": {
  "kernelspec": {
   "display_name": "Python 3",
   "language": "python",
   "name": "python3"
  },
  "language_info": {
   "codemirror_mode": {
    "name": "ipython",
    "version": 3
   },
   "file_extension": ".py",
   "mimetype": "text/x-python",
   "name": "python",
   "nbconvert_exporter": "python",
   "pygments_lexer": "ipython3",
   "version": "3.8.5"
  }
 },
 "nbformat": 4,
 "nbformat_minor": 5
}
